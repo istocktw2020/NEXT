{
  "nbformat": 4,
  "nbformat_minor": 0,
  "metadata": {
    "colab": {
      "name": "8_QUEENS.ipynb",
      "provenance": [],
      "include_colab_link": true
    },
    "kernelspec": {
      "name": "python3",
      "display_name": "Python 3"
    }
  },
  "cells": [
    {
      "cell_type": "markdown",
      "metadata": {
        "id": "view-in-github",
        "colab_type": "text"
      },
      "source": [
        "<a href=\"https://colab.research.google.com/github/istocktw2020/NEXT/blob/main/8_QUEENS.ipynb\" target=\"_parent\"><img src=\"https://colab.research.google.com/assets/colab-badge.svg\" alt=\"Open In Colab\"/></a>"
      ]
    },
    {
      "cell_type": "markdown",
      "metadata": {
        "id": "YMLmbxWPKu5t"
      },
      "source": [
        "https://colab.research.google.com/drive/11CH6-eI7tg7AsaLhfhk0FgQzaFwln5Yo?usp=sharing"
      ]
    },
    {
      "cell_type": "code",
      "metadata": {
        "colab": {
          "base_uri": "https://localhost:8080/"
        },
        "id": "fQCCfST1L49b",
        "outputId": "65dcf421-48cd-4b10-a2c1-834aaeb9d1f6"
      },
      "source": [
        "!pip install pyeda"
      ],
      "execution_count": null,
      "outputs": [
        {
          "output_type": "stream",
          "text": [
            "Collecting pyeda\n",
            "\u001b[?25l  Downloading https://files.pythonhosted.org/packages/01/29/b6ce038a75409239db8762b4744c8b53eb62e0b6240ece1c2969a7250206/pyeda-0.28.0.tar.gz (478kB)\n",
            "\u001b[K     |████████████████████████████████| 481kB 5.9MB/s \n",
            "\u001b[?25hBuilding wheels for collected packages: pyeda\n",
            "  Building wheel for pyeda (setup.py) ... \u001b[?25l\u001b[?25hdone\n",
            "  Created wheel for pyeda: filename=pyeda-0.28.0-cp36-cp36m-linux_x86_64.whl size=542320 sha256=b92ead3692b1db43a9f4f60181974b98f96391d72550db669cd1fabb5f7276db\n",
            "  Stored in directory: /root/.cache/pip/wheels/8e/33/76/efb4411454eb542ca9737cdd60418ec23f3625809738d17871\n",
            "Successfully built pyeda\n",
            "Installing collected packages: pyeda\n",
            "Successfully installed pyeda-0.28.0\n"
          ],
          "name": "stdout"
        }
      ]
    },
    {
      "cell_type": "code",
      "metadata": {
        "id": "9SDm-mWjL1ak"
      },
      "source": [
        "from pyeda.inter import *"
      ],
      "execution_count": null,
      "outputs": []
    },
    {
      "cell_type": "code",
      "metadata": {
        "id": "LuXMM14TMGyX"
      },
      "source": [
        " X=exprvars('x', 8, 8)\r\n",
        " R=And(*[OneHot(*[X[r,c] for c in range(8)]) for r in range(8)])\r\n",
        " C=And(*[OneHot(*[X[r,c] for r in range(8)]) for c in range(8)])"
      ],
      "execution_count": null,
      "outputs": []
    },
    {
      "cell_type": "code",
      "metadata": {
        "id": "6gPVlzwhMhSX"
      },
      "source": [
        "starts = [(i, 0) for i in range(8-2, 0, -1)] + [(0, i) for i in range(8-1)]\r\n",
        "lrdiags = []\r\n",
        "for r, c in starts:\r\n",
        "    lrdiags.append([])\r\n",
        "    ri, ci = r, c\r\n",
        "    while ri < 8 and ci < 8:\r\n",
        "        lrdiags[-1].append((ri, ci))\r\n",
        "        ri += 1\r\n",
        "        ci += 1\r\n",
        "\r\n",
        "DLR = And(*[OneHot0(*[X[r,c] for r, c in diag]) for diag in lrdiags])"
      ],
      "execution_count": null,
      "outputs": []
    },
    {
      "cell_type": "code",
      "metadata": {
        "id": "LPYZM08fM3hj"
      },
      "source": [
        "starts = [(i, 8-1) for i in range(8-2, -1, -1)] + [(0, i) for i in range(8-2, 0, -1)]\r\n",
        "rldiags = []\r\n",
        "for r, c in starts:\r\n",
        "    rldiags.append([])\r\n",
        "    ri, ci = r, c\r\n",
        "    while ri < 8 and ci >= 0:\r\n",
        "        rldiags[-1].append((ri, ci))\r\n",
        "        ri += 1\r\n",
        "        ci -= 1\r\n",
        "\r\n",
        "DRL = And(*[OneHot0(*[X[r,c] for r, c in diag]) for diag in rldiags])"
      ],
      "execution_count": null,
      "outputs": []
    },
    {
      "cell_type": "code",
      "metadata": {
        "id": "tMbwJuf_M9tL"
      },
      "source": [
        "S = R & C & DLR & DRL"
      ],
      "execution_count": null,
      "outputs": []
    },
    {
      "cell_type": "code",
      "metadata": {
        "colab": {
          "base_uri": "https://localhost:8080/"
        },
        "id": "MEAWkRPbNCid",
        "outputId": "d080201a-63ea-4722-b0d5-72bc10040c66"
      },
      "source": [
        "S.is_cnf()\r\n",
        "# print(S)"
      ],
      "execution_count": null,
      "outputs": [
        {
          "output_type": "execute_result",
          "data": {
            "text/plain": [
              "False"
            ]
          },
          "metadata": {
            "tags": []
          },
          "execution_count": 7
        }
      ]
    },
    {
      "cell_type": "code",
      "metadata": {
        "colab": {
          "base_uri": "https://localhost:8080/"
        },
        "id": "NZbg1_onNGqW",
        "outputId": "f79238f9-9a16-4508-e5df-a6dadf1d6a37"
      },
      "source": [
        "len(S.xs)"
      ],
      "execution_count": null,
      "outputs": [
        {
          "output_type": "execute_result",
          "data": {
            "text/plain": [
              "2"
            ]
          },
          "metadata": {
            "tags": []
          },
          "execution_count": 8
        }
      ]
    },
    {
      "cell_type": "code",
      "metadata": {
        "id": "1gXT20FDKxnf"
      },
      "source": [
        "def display(point):\r\n",
        "\tchars = list()\r\n",
        "\tfor r in range(8):\r\n",
        "\t    for c in range(8):\r\n",
        "\t        if point[X[r,c]]:\r\n",
        "\t            chars.append(\"Q\")\r\n",
        "\t        else:\r\n",
        "\t            chars.append(\".\")\r\n",
        "\t    if r != 7:\r\n",
        "\t        chars.append(\"\\n\")\r\n",
        "\tprint(\"\".join(chars))"
      ],
      "execution_count": null,
      "outputs": []
    },
    {
      "cell_type": "code",
      "metadata": {
        "colab": {
          "base_uri": "https://localhost:8080/"
        },
        "id": "n_kRUajYNijV",
        "outputId": "7d13933f-b44d-4e43-cd83-9f5b5077a044"
      },
      "source": [
        "display(S.satisfy_one())"
      ],
      "execution_count": null,
      "outputs": [
        {
          "output_type": "stream",
          "text": [
            ".......Q\n",
            "...Q....\n",
            "Q.......\n",
            "..Q.....\n",
            ".....Q..\n",
            ".Q......\n",
            "......Q.\n",
            "....Q...\n"
          ],
          "name": "stdout"
        }
      ]
    }
  ]
}